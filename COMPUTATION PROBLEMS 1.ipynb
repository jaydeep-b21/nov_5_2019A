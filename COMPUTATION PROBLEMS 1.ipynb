{
 "cells": [
  {
   "cell_type": "markdown",
   "metadata": {},
   "source": [
    "# (1) You borrowed $5000 for 2 years with 2% interest per year. Calculate the simple interest to know how much you have to pay?"
   ]
  },
  {
   "cell_type": "markdown",
   "metadata": {},
   "source": [
    "HINT: Just take amount, duration and interest rate.\n",
    "\n",
    "You have to multiply these three. And, don’t forget: you have to convert percent to a fraction by dividing it by 100."
   ]
  },
  {
   "cell_type": "code",
   "execution_count": 1,
   "metadata": {},
   "outputs": [
    {
     "name": "stdout",
     "output_type": "stream",
     "text": [
      "Money you borrowed: 5000\n",
      "Interest Rate: 2\n",
      "Overall Duration: 2\n",
      "Simple interest is: 200.0\n"
     ]
    }
   ],
   "source": [
    "principle = int(input(\"Money you borrowed: \"))\n",
    "interest_rate = float(input(\"Interest Rate: \"))\n",
    "time = float(input(\"Overall Duration: \"))\n",
    "\n",
    "# Calculates simple interest\n",
    "simple_interest = principle * (interest_rate/100) * time\n",
    "\n",
    "print(\"Simple interest is:\", simple_interest)"
   ]
  },
  {
   "cell_type": "markdown",
   "metadata": {},
   "source": [
    "# (2) Take money borrowed, interest and duration as input. Then, compute the compound interest rate."
   ]
  },
  {
   "cell_type": "markdown",
   "metadata": {},
   "source": [
    "HINT: Compound interest formula is:\n",
    "\n",
    "A = P(1+r/100)t\n",
    "\n",
    "Here, P is the principal amount; it is the amount that you borrowed. r is the interest rate in percentage and t is the time."
   ]
  },
  {
   "cell_type": "code",
   "execution_count": 2,
   "metadata": {},
   "outputs": [
    {
     "name": "stdout",
     "output_type": "stream",
     "text": [
      "Money you borrowed: 5000\n",
      "Interest Rate: 3\n",
      "Overall Duration: 5\n",
      "Interest Amount is: 5796.3703715\n"
     ]
    }
   ],
   "source": [
    "def compound_interest(principle, rate, time):\n",
    "    interest = principle * ((1 + rate / 100) ** time)\n",
    "    return interest\n",
    "\n",
    "principle = int(input(\"Money you borrowed: \"))\n",
    "interest_rate = float(input(\"Interest Rate: \"))\n",
    "time = float(input(\"Overall Duration: \"))\n",
    "\n",
    "total_due = compound_interest(principle, interest_rate, time)\n",
    "\n",
    "print(\"Interest Amount is:\", total_due)"
   ]
  },
  {
   "cell_type": "markdown",
   "metadata": {},
   "source": [
    "# (3) Calculate grade of five subjects."
   ]
  },
  {
   "cell_type": "markdown",
   "metadata": {},
   "source": [
    "HINT : So, you have to take five inputs. These will be the marks of five subjects. Then, create the average.\n",
    "\n",
    "Once you have the average. It just running an if-else. And decide the grade."
   ]
  },
  {
   "cell_type": "code",
   "execution_count": 4,
   "metadata": {},
   "outputs": [
    {
     "name": "stdout",
     "output_type": "stream",
     "text": [
      "Enter your marks:\n",
      "First subject: 75\n",
      "Second subject: 80\n",
      "Third subject: 85\n",
      "Fourth subject: 90\n",
      "Fifth subject: 95\n",
      "Grade: B\n"
     ]
    }
   ],
   "source": [
    "print('Enter your marks:')\n",
    "sub1=int(input(\"First subject: \"))\n",
    "sub2=int(input(\"Second subject: \"))\n",
    "sub3=int(input(\"Third subject: \"))\n",
    "sub4=int(input(\"Fourth subject: \"))\n",
    "sub5=int(input(\"Fifth subject: \"))\n",
    " \n",
    "avg=(sub1+sub2+sub3+sub4+sub5)/5\n",
    " \n",
    "if avg >= 90:\n",
    "    print(\"Grade: A\")\n",
    "elif avg >= 80:\n",
    "    print(\"Grade: B\")\n",
    "elif avg >= 70:\n",
    "    print(\"Grade: C\")\n",
    "elif avg >=60:\n",
    "    print(\"Grade: D\")\n",
    "else:\n",
    "    print(\"Grade: F\")"
   ]
  },
  {
   "cell_type": "markdown",
   "metadata": {},
   "source": [
    "# (4) Compute gravitational force between two objects."
   ]
  },
  {
   "cell_type": "markdown",
   "metadata": {},
   "source": [
    "HINT : The formula for gravitational force is\n",
    "\n",
    "F = G m^1m^2/r^2\n",
    "\n",
    "Here G is the gravitational constant. Its value is 6.673*10-11\n",
    "\n",
    "So, take three input from the users. The mass of the first object, the mass of the second object and the distance between them."
   ]
  },
  {
   "cell_type": "code",
   "execution_count": 8,
   "metadata": {},
   "outputs": [
    {
     "name": "stdout",
     "output_type": "stream",
     "text": [
      "First mass: 5000000\n",
      "Second mass: 9000000\n",
      "Distance between the objects: 4\n",
      "The gravitational force is: 187.67812 N\n"
     ]
    }
   ],
   "source": [
    "mass1 = float(input(\"First mass: \"))\n",
    "mass2 = float(input(\"Second mass: \"))\n",
    " \n",
    "r = float(input(\"Distance between the objects: \"))\n",
    " \n",
    "G = 6.673*(10**-11)\n",
    "force =(G*mass1*mass2)/(r**2)\n",
    " \n",
    "print(\"The gravitational force is:\", round(force, 5),\"N\")"
   ]
  },
  {
   "cell_type": "markdown",
   "metadata": {},
   "source": [
    "# (5) Take three sides of a triangle. And then calculate the area of the triangle."
   ]
  },
  {
   "cell_type": "markdown",
   "metadata": {},
   "source": [
    "HINT : To calculate the area of the triangle. First, calculate the half of the perimeter. Here perimeter is the sum of each side of the triangle.\n",
    "\n",
    "Let’s call it s.\n",
    "\n",
    "Then you have to perform square root of the formula like below-\n",
    "\n",
    "s = (a+b+c)/2\n",
    "\n",
    "area = √(s(s-a)*(s-b)*(s-c))"
   ]
  },
  {
   "cell_type": "code",
   "execution_count": null,
   "metadata": {},
   "outputs": [
    {
     "name": "stdout",
     "output_type": "stream",
     "text": [
      "Enter first side: 30\n",
      "Enter second side: 40\n"
     ]
    }
   ],
   "source": [
    "import math\n",
    "\n",
    "a = float(input('Enter first side: '))\n",
    "b = float(input('Enter second side: '))\n",
    "c = float(input('Enter third side: '))\n",
    "\n",
    "# calculate the semi-perimeter\n",
    "s = (a + b + c) / 2\n",
    "\n",
    "# calculate the area\n",
    "area = math.sqrt(s*(s-a)*(s-b)*(s-c))\n",
    "print('Area of your triangle is ', area)"
   ]
  },
  {
   "cell_type": "code",
   "execution_count": null,
   "metadata": {},
   "outputs": [],
   "source": []
  }
 ],
 "metadata": {
  "kernelspec": {
   "display_name": "Python 3",
   "language": "python",
   "name": "python3"
  },
  "language_info": {
   "codemirror_mode": {
    "name": "ipython",
    "version": 3
   },
   "file_extension": ".py",
   "mimetype": "text/x-python",
   "name": "python",
   "nbconvert_exporter": "python",
   "pygments_lexer": "ipython3",
   "version": "3.7.3"
  }
 },
 "nbformat": 4,
 "nbformat_minor": 2
}
